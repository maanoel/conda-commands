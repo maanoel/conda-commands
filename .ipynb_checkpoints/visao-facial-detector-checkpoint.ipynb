{
 "cells": [
  {
   "cell_type": "code",
   "execution_count": 1,
   "id": "baab10ec",
   "metadata": {},
   "outputs": [],
   "source": [
    "#Todos os imports \n",
    "# ESSE CÓDIGO FOI DESENVOLDIDO POR MANOLOS ;D\n",
    "\n",
    "import cv2 \n",
    "import dlib \n",
    "import numpy\n",
    "import matplotlib.pyplot as plt\n",
    "import seaborn\n",
    "\n",
    "#Classificador que será utilizado por toda a classe, ele precisa ser treinado\n",
    "classificador = None;"
   ]
  },
  {
   "cell_type": "code",
   "execution_count": 2,
   "id": "9a81e3df",
   "metadata": {},
   "outputs": [],
   "source": [
    "# funções gerais básicas relacionadas a manipulação da imagem que será analisada\n",
    "def abrirImagem(caminho):\n",
    "    return cv2.imread(caminho)"
   ]
  },
  {
   "cell_type": "code",
   "execution_count": 3,
   "id": "aaf7defc",
   "metadata": {},
   "outputs": [],
   "source": [
    "def transformarImagemParaRgb(imagem):\n",
    "    return cv2.cvtColor(imagem, cv2.COLOR_BGR2RGB)\n",
    "\n",
    "def transformarImagemParaBgr(imagem):\n",
    "    return cv2.cvtColor(imagem, cv2.COLOR_RGB2BGR)"
   ]
  },
  {
   "cell_type": "code",
   "execution_count": 4,
   "id": "1bd877cd",
   "metadata": {},
   "outputs": [],
   "source": [
    "def transformarImagemParaCinza(imagem):\n",
    "    return cv2.cvtColor(imagem, cv2.COLOR_RGB2GRAY)"
   ]
  },
  {
   "cell_type": "code",
   "execution_count": 51,
   "id": "21041e63",
   "metadata": {},
   "outputs": [],
   "source": [
    "def exibirImagem(imagem):\n",
    "    plt.imshow(imagem)  \n",
    "    \n",
    "def exibirImagemCinza(imagem):\n",
    "    plt.imshow(imagem, cmap=\"gray\")"
   ]
  },
  {
   "cell_type": "code",
   "execution_count": 52,
   "id": "fd61b237",
   "metadata": {},
   "outputs": [],
   "source": [
    "def exibirImagemTransformadaParaCinza(imagem):\n",
    "    return transformarImagemParaCinza(transformarImagemParaRgb(imagem))"
   ]
  },
  {
   "cell_type": "code",
   "execution_count": 53,
   "id": "fec3fba7",
   "metadata": {},
   "outputs": [],
   "source": [
    "def salvarImagem(caminho, imagem):\n",
    "    cv2.imwrite(caminho, imagem)"
   ]
  },
  {
   "cell_type": "code",
   "execution_count": 54,
   "id": "ebf13f9a",
   "metadata": {},
   "outputs": [],
   "source": [
    "##códigos de  testes!\n",
    "def testeObterRegiaoDeInteresseFixa():\n",
    "    return transformarImagemParaBgr(transformarImagemParaRgb(abrirImagem(\"pessoas.jpg\")))[0:400, 1000:1400] "
   ]
  },
  {
   "cell_type": "code",
   "execution_count": 58,
   "id": "b0d8ebdd",
   "metadata": {},
   "outputs": [],
   "source": [
    "def definirClassificadorEmCascataPorArquivo(caminho):\n",
    "    classificador = cv2.CascadeClassifier(caminho)"
   ]
  },
  {
   "cell_type": "code",
   "execution_count": null,
   "id": "f9e85fcc",
   "metadata": {},
   "outputs": [],
   "source": [
    "def detectaImagemReduzidaUtilizandoClassificador():\n",
    "    return \n",
    "    "
   ]
  },
  {
   "cell_type": "code",
   "execution_count": null,
   "id": "dea95cf6",
   "metadata": {},
   "outputs": [],
   "source": [
    "exibirImagem(transformarImagemParaCinza(abrirImagem(\"pessoas.jpg\")))\n",
    "classificador = definirClassificadorEmCascataPorArquivo(\"classificadores/hearcascade_frontalface_default.xml\")\n",
    "faces = "
   ]
  }
 ],
 "metadata": {
  "kernelspec": {
   "display_name": "Python 3 (ipykernel)",
   "language": "python",
   "name": "python3"
  },
  "language_info": {
   "codemirror_mode": {
    "name": "ipython",
    "version": 3
   },
   "file_extension": ".py",
   "mimetype": "text/x-python",
   "name": "python",
   "nbconvert_exporter": "python",
   "pygments_lexer": "ipython3",
   "version": "3.8.11"
  }
 },
 "nbformat": 4,
 "nbformat_minor": 5
}
