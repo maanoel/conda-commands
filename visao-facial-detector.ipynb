{
 "cells": [
  {
   "cell_type": "code",
   "execution_count": 18,
   "id": "e2a081e5",
   "metadata": {},
   "outputs": [],
   "source": [
    "#Todos os imports \n",
    "# ESSE CÓDIGO FOI DESENVOLDIDO POR MANOLOS ;D\n",
    "\n",
    "import cv2 \n",
    "import dlib \n",
    "import numpy\n",
    "import matplotlib.pyplot as plt\n",
    "import seaborn"
   ]
  },
  {
   "cell_type": "code",
   "execution_count": 59,
   "id": "bcfcba10",
   "metadata": {},
   "outputs": [],
   "source": [
    "# funções gerais básicas relacionadas a manipulação da imagem que será analisada\n",
    "def abrirImagem(caminho):\n",
    "    return cv2.imread(caminho)"
   ]
  },
  {
   "cell_type": "code",
   "execution_count": 149,
   "id": "efd27e40",
   "metadata": {},
   "outputs": [],
   "source": [
    "def transformarImagemParaRgb(imagem):\n",
    "    return cv2.cvtColor(imagem, cv2.COLOR_BGR2RGB)\n",
    "\n",
    "def transformarImagemParaBgr(imagem):\n",
    "    return cv2.cvtColor(imagem, cv2.COLOR_RGB2BGR)"
   ]
  },
  {
   "cell_type": "code",
   "execution_count": 150,
   "id": "f3486c3a",
   "metadata": {},
   "outputs": [],
   "source": [
    "def transformarImagemParaGray(imagem):\n",
    "    return cv2.cvtColor(imagem, cv2.COLOR_RGB2GRAY)"
   ]
  },
  {
   "cell_type": "code",
   "execution_count": 151,
   "id": "ca3322c6",
   "metadata": {},
   "outputs": [],
   "source": [
    "def exibirImagem(imagem):\n",
    "    plt.imshow(imagem)    \n",
    "def exibirImagemCinza(imagem):\n",
    "    plt.imshow(imagem, cmap=\"gray\")"
   ]
  },
  {
   "cell_type": "code",
   "execution_count": 152,
   "id": "d3b14af0",
   "metadata": {},
   "outputs": [],
   "source": [
    "def exibirImagemTransformadaParaGray(imagem):\n",
    "    return transformarImagemParaGray(transformarImagemParaRgb(imagem))"
   ]
  },
  {
   "cell_type": "code",
   "execution_count": 153,
   "id": "d89ef41a",
   "metadata": {},
   "outputs": [],
   "source": [
    "def salvarImagem(caminho, imagem):\n",
    "    cv2.imwrite(caminho, imagem)"
   ]
  },
  {
   "cell_type": "code",
   "execution_count": 155,
   "id": "61f9ab58",
   "metadata": {},
   "outputs": [],
   "source": [
    "salvarImagem(\"teste.jpg\", transformarImagemParaBgr(abrirImagem(\"pessoas.jpg\"))[0:400, 1000:1400])"
   ]
  },
  {
   "cell_type": "code",
   "execution_count": null,
   "id": "17b84113",
   "metadata": {},
   "outputs": [],
   "source": []
  },
  {
   "cell_type": "code",
   "execution_count": null,
   "id": "31b9a6d3",
   "metadata": {},
   "outputs": [],
   "source": []
  }
 ],
 "metadata": {
  "kernelspec": {
   "display_name": "Python 3 (ipykernel)",
   "language": "python",
   "name": "python3"
  },
  "language_info": {
   "codemirror_mode": {
    "name": "ipython",
    "version": 3
   },
   "file_extension": ".py",
   "mimetype": "text/x-python",
   "name": "python",
   "nbconvert_exporter": "python",
   "pygments_lexer": "ipython3",
   "version": "3.8.11"
  }
 },
 "nbformat": 4,
 "nbformat_minor": 5
}
